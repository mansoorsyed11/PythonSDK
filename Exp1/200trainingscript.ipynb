{
 "cells": [
  {
   "cell_type": "code",
   "execution_count": 1,
   "metadata": {},
   "outputs": [],
   "source": [
    "# ------------------------------------------------------------------\n",
    "# Predict the Loan Status using Logistic Regression in scikit-learn\n",
    "# ------------------------------------------------------------------\n",
    "\n",
    "# Import required classes from Azureml\n",
    "from azureml.core import Workspace, Run\n",
    "\n",
    "# Access the Workspace\n",
    "ws = Workspace.from_config(\"./config\")"
   ]
  },
  {
   "cell_type": "code",
   "execution_count": 2,
   "metadata": {},
   "outputs": [],
   "source": [
    "# Get the context of the experiment run\n",
    "new_run = Run.get_context()\n"
   ]
  },
  {
   "cell_type": "code",
   "execution_count": 3,
   "metadata": {},
   "outputs": [
    {
     "ename": "OSError",
     "evalue": "[Errno 22] Invalid argument: 'C:\\\\Users\\\\msyed\\\\OneDrive - Kagool Ltd\\\\Documents\\\\Experiments\\\\Exp1\\\\alldatasets\\\\Loan Approval Prediction.csv'",
     "output_type": "error",
     "traceback": [
      "\u001b[0;31m---------------------------------------------------------------------------\u001b[0m",
      "\u001b[0;31mOSError\u001b[0m                                   Traceback (most recent call last)",
      "\u001b[1;32mc:\\Users\\msyed\\OneDrive - Kagool Ltd\\Documents\\Experiments\\Exp1\\200trainingscript.ipynb Cell 3\u001b[0m in \u001b[0;36m<cell line: 3>\u001b[0;34m()\u001b[0m\n\u001b[1;32m      <a href='vscode-notebook-cell:/c%3A/Users/msyed/OneDrive%20-%20Kagool%20Ltd/Documents/Experiments/Exp1/200trainingscript.ipynb#ch0000002?line=0'>1</a>\u001b[0m \u001b[39mimport\u001b[39;00m \u001b[39mpandas\u001b[39;00m \u001b[39mas\u001b[39;00m \u001b[39mpd\u001b[39;00m \n\u001b[1;32m      <a href='vscode-notebook-cell:/c%3A/Users/msyed/OneDrive%20-%20Kagool%20Ltd/Documents/Experiments/Exp1/200trainingscript.ipynb#ch0000002?line=1'>2</a>\u001b[0m \u001b[39mimport\u001b[39;00m \u001b[39mnumpy\u001b[39;00m \u001b[39mas\u001b[39;00m \u001b[39mnp\u001b[39;00m\n\u001b[0;32m----> <a href='vscode-notebook-cell:/c%3A/Users/msyed/OneDrive%20-%20Kagool%20Ltd/Documents/Experiments/Exp1/200trainingscript.ipynb#ch0000002?line=2'>3</a>\u001b[0m df \u001b[39m=\u001b[39m pd\u001b[39m.\u001b[39;49mread_csv(\u001b[39mr\u001b[39;49m\u001b[39m'\u001b[39;49m\u001b[39mC:\u001b[39;49m\u001b[39m\\\u001b[39;49m\u001b[39mUsers\u001b[39;49m\u001b[39m\\\u001b[39;49m\u001b[39mmsyed\u001b[39;49m\u001b[39m\\\u001b[39;49m\u001b[39mOneDrive - Kagool Ltd\u001b[39;49m\u001b[39m\\\u001b[39;49m\u001b[39mDocuments\u001b[39;49m\u001b[39m\\\u001b[39;49m\u001b[39mExperiments\u001b[39;49m\u001b[39m\\\u001b[39;49m\u001b[39mExp1\u001b[39;49m\u001b[39m\\\u001b[39;49m\u001b[39malldatasets\u001b[39;49m\u001b[39m\\\u001b[39;49m\u001b[39mLoan Approval Prediction.csv\u001b[39;49m\u001b[39m'\u001b[39;49m)\n",
      "File \u001b[0;32m/anaconda/envs/azureml_py38/lib/python3.8/site-packages/pandas/io/parsers.py:688\u001b[0m, in \u001b[0;36mread_csv\u001b[0;34m(filepath_or_buffer, sep, delimiter, header, names, index_col, usecols, squeeze, prefix, mangle_dupe_cols, dtype, engine, converters, true_values, false_values, skipinitialspace, skiprows, skipfooter, nrows, na_values, keep_default_na, na_filter, verbose, skip_blank_lines, parse_dates, infer_datetime_format, keep_date_col, date_parser, dayfirst, cache_dates, iterator, chunksize, compression, thousands, decimal, lineterminator, quotechar, quoting, doublequote, escapechar, comment, encoding, dialect, error_bad_lines, warn_bad_lines, delim_whitespace, low_memory, memory_map, float_precision)\u001b[0m\n\u001b[1;32m    635\u001b[0m     engine_specified \u001b[39m=\u001b[39m \u001b[39mFalse\u001b[39;00m\n\u001b[1;32m    637\u001b[0m kwds\u001b[39m.\u001b[39mupdate(\n\u001b[1;32m    638\u001b[0m     delimiter\u001b[39m=\u001b[39mdelimiter,\n\u001b[1;32m    639\u001b[0m     engine\u001b[39m=\u001b[39mengine,\n\u001b[0;32m   (...)\u001b[0m\n\u001b[1;32m    685\u001b[0m     skip_blank_lines\u001b[39m=\u001b[39mskip_blank_lines,\n\u001b[1;32m    686\u001b[0m )\n\u001b[0;32m--> 688\u001b[0m \u001b[39mreturn\u001b[39;00m _read(filepath_or_buffer, kwds)\n",
      "File \u001b[0;32m/anaconda/envs/azureml_py38/lib/python3.8/site-packages/pandas/io/parsers.py:454\u001b[0m, in \u001b[0;36m_read\u001b[0;34m(filepath_or_buffer, kwds)\u001b[0m\n\u001b[1;32m    451\u001b[0m _validate_names(kwds\u001b[39m.\u001b[39mget(\u001b[39m\"\u001b[39m\u001b[39mnames\u001b[39m\u001b[39m\"\u001b[39m, \u001b[39mNone\u001b[39;00m))\n\u001b[1;32m    453\u001b[0m \u001b[39m# Create the parser.\u001b[39;00m\n\u001b[0;32m--> 454\u001b[0m parser \u001b[39m=\u001b[39m TextFileReader(fp_or_buf, \u001b[39m*\u001b[39;49m\u001b[39m*\u001b[39;49mkwds)\n\u001b[1;32m    456\u001b[0m \u001b[39mif\u001b[39;00m chunksize \u001b[39mor\u001b[39;00m iterator:\n\u001b[1;32m    457\u001b[0m     \u001b[39mreturn\u001b[39;00m parser\n",
      "File \u001b[0;32m/anaconda/envs/azureml_py38/lib/python3.8/site-packages/pandas/io/parsers.py:948\u001b[0m, in \u001b[0;36mTextFileReader.__init__\u001b[0;34m(self, f, engine, **kwds)\u001b[0m\n\u001b[1;32m    945\u001b[0m \u001b[39mif\u001b[39;00m \u001b[39m\"\u001b[39m\u001b[39mhas_index_names\u001b[39m\u001b[39m\"\u001b[39m \u001b[39min\u001b[39;00m kwds:\n\u001b[1;32m    946\u001b[0m     \u001b[39mself\u001b[39m\u001b[39m.\u001b[39moptions[\u001b[39m\"\u001b[39m\u001b[39mhas_index_names\u001b[39m\u001b[39m\"\u001b[39m] \u001b[39m=\u001b[39m kwds[\u001b[39m\"\u001b[39m\u001b[39mhas_index_names\u001b[39m\u001b[39m\"\u001b[39m]\n\u001b[0;32m--> 948\u001b[0m \u001b[39mself\u001b[39;49m\u001b[39m.\u001b[39;49m_make_engine(\u001b[39mself\u001b[39;49m\u001b[39m.\u001b[39;49mengine)\n",
      "File \u001b[0;32m/anaconda/envs/azureml_py38/lib/python3.8/site-packages/pandas/io/parsers.py:1180\u001b[0m, in \u001b[0;36mTextFileReader._make_engine\u001b[0;34m(self, engine)\u001b[0m\n\u001b[1;32m   1178\u001b[0m \u001b[39mdef\u001b[39;00m \u001b[39m_make_engine\u001b[39m(\u001b[39mself\u001b[39m, engine\u001b[39m=\u001b[39m\u001b[39m\"\u001b[39m\u001b[39mc\u001b[39m\u001b[39m\"\u001b[39m):\n\u001b[1;32m   1179\u001b[0m     \u001b[39mif\u001b[39;00m engine \u001b[39m==\u001b[39m \u001b[39m\"\u001b[39m\u001b[39mc\u001b[39m\u001b[39m\"\u001b[39m:\n\u001b[0;32m-> 1180\u001b[0m         \u001b[39mself\u001b[39m\u001b[39m.\u001b[39m_engine \u001b[39m=\u001b[39m CParserWrapper(\u001b[39mself\u001b[39;49m\u001b[39m.\u001b[39;49mf, \u001b[39m*\u001b[39;49m\u001b[39m*\u001b[39;49m\u001b[39mself\u001b[39;49m\u001b[39m.\u001b[39;49moptions)\n\u001b[1;32m   1181\u001b[0m     \u001b[39melse\u001b[39;00m:\n\u001b[1;32m   1182\u001b[0m         \u001b[39mif\u001b[39;00m engine \u001b[39m==\u001b[39m \u001b[39m\"\u001b[39m\u001b[39mpython\u001b[39m\u001b[39m\"\u001b[39m:\n",
      "File \u001b[0;32m/anaconda/envs/azureml_py38/lib/python3.8/site-packages/pandas/io/parsers.py:2010\u001b[0m, in \u001b[0;36mCParserWrapper.__init__\u001b[0;34m(self, src, **kwds)\u001b[0m\n\u001b[1;32m   2007\u001b[0m \u001b[39mself\u001b[39m\u001b[39m.\u001b[39musecols, \u001b[39mself\u001b[39m\u001b[39m.\u001b[39musecols_dtype \u001b[39m=\u001b[39m _validate_usecols_arg(kwds[\u001b[39m\"\u001b[39m\u001b[39musecols\u001b[39m\u001b[39m\"\u001b[39m])\n\u001b[1;32m   2008\u001b[0m kwds[\u001b[39m\"\u001b[39m\u001b[39musecols\u001b[39m\u001b[39m\"\u001b[39m] \u001b[39m=\u001b[39m \u001b[39mself\u001b[39m\u001b[39m.\u001b[39musecols\n\u001b[0;32m-> 2010\u001b[0m \u001b[39mself\u001b[39m\u001b[39m.\u001b[39m_reader \u001b[39m=\u001b[39m parsers\u001b[39m.\u001b[39;49mTextReader(src, \u001b[39m*\u001b[39;49m\u001b[39m*\u001b[39;49mkwds)\n\u001b[1;32m   2011\u001b[0m \u001b[39mself\u001b[39m\u001b[39m.\u001b[39munnamed_cols \u001b[39m=\u001b[39m \u001b[39mself\u001b[39m\u001b[39m.\u001b[39m_reader\u001b[39m.\u001b[39munnamed_cols\n\u001b[1;32m   2013\u001b[0m passed_names \u001b[39m=\u001b[39m \u001b[39mself\u001b[39m\u001b[39m.\u001b[39mnames \u001b[39mis\u001b[39;00m \u001b[39mNone\u001b[39;00m\n",
      "File \u001b[0;32mpandas/_libs/parsers.pyx:382\u001b[0m, in \u001b[0;36mpandas._libs.parsers.TextReader.__cinit__\u001b[0;34m()\u001b[0m\n",
      "File \u001b[0;32mpandas/_libs/parsers.pyx:674\u001b[0m, in \u001b[0;36mpandas._libs.parsers.TextReader._setup_parser_source\u001b[0;34m()\u001b[0m\n",
      "\u001b[0;31mOSError\u001b[0m: [Errno 22] Invalid argument: 'C:\\\\Users\\\\msyed\\\\OneDrive - Kagool Ltd\\\\Documents\\\\Experiments\\\\Exp1\\\\alldatasets\\\\Loan Approval Prediction.csv'"
     ]
    }
   ],
   "source": [
    "import pandas as pd \n",
    "import numpy as np\n",
    "df = pd.read_csv(r'C:\\Users\\msyed\\OneDrive - Kagool Ltd\\Documents\\Experiments\\Exp1\\alldatasets\\Loan Approval Prediction.csv')"
   ]
  },
  {
   "cell_type": "code",
   "execution_count": 5,
   "metadata": {},
   "outputs": [],
   "source": [
    "# Select columns from the dataset\n",
    "LoanPrep = df[[\"Married\", \n",
    "             \"Education\",\n",
    "             \"Self_Employed\",\n",
    "             \"ApplicantIncome\",\n",
    "             \"LoanAmount\",\n",
    "             \"Loan_Amount_Term\",\n",
    "             \"Credit_History\",\n",
    "             \"Loan_Status\"\n",
    "             ]]\n"
   ]
  },
  {
   "cell_type": "code",
   "execution_count": 6,
   "metadata": {},
   "outputs": [],
   "source": [
    "# Clean Missing Data - Drop the columns with missing values\n",
    "LoanPrep = LoanPrep.dropna()\n",
    "\n",
    "\n",
    "# Create Dummy variables - Not required in designer\n",
    "LoanPrep = pd.get_dummies(LoanPrep, drop_first=True)\n",
    "\n",
    "# Create X and Y - Similar to \"edit columns\" in Train Module\n",
    "Y = LoanPrep[['Loan_Status_Y']]\n",
    "X = LoanPrep.drop(['Loan_Status_Y'], axis=1)\n"
   ]
  },
  {
   "cell_type": "code",
   "execution_count": 7,
   "metadata": {},
   "outputs": [],
   "source": [
    "# Split Data - X and Y datasets are training and testing sets\n",
    "from sklearn.model_selection import train_test_split\n",
    "\n",
    "X_train, X_test, Y_train, Y_test = \\\n",
    "train_test_split(X, Y, test_size = 0.3, random_state = 1234, stratify=Y)\n"
   ]
  },
  {
   "cell_type": "code",
   "execution_count": 8,
   "metadata": {},
   "outputs": [],
   "source": [
    "# Build the Logistic Regression model\n",
    "from sklearn.linear_model import LogisticRegression\n",
    "lr = LogisticRegression()"
   ]
  },
  {
   "cell_type": "code",
   "execution_count": 9,
   "metadata": {},
   "outputs": [
    {
     "name": "stderr",
     "output_type": "stream",
     "text": [
      "c:\\Users\\msyed\\Anaconda3\\lib\\site-packages\\sklearn\\utils\\validation.py:993: DataConversionWarning: A column-vector y was passed when a 1d array was expected. Please change the shape of y to (n_samples, ), for example using ravel().\n",
      "  y = column_or_1d(y, warn=True)\n"
     ]
    }
   ],
   "source": [
    "\n",
    "# Fit the data to the LogisticRegression object - Train Model\n",
    "lr.fit(X_train, Y_train)\n",
    "\n",
    "\n",
    "# Predict the outcome using Test data - Score Model \n",
    "# Scored Label\n",
    "Y_predict = lr.predict(X_test)\n",
    "\n",
    "# Get the probability score - Scored Probabilities\n",
    "Y_prob = lr.predict_proba(X_test)[:, 1]"
   ]
  },
  {
   "cell_type": "code",
   "execution_count": 10,
   "metadata": {},
   "outputs": [],
   "source": [
    "# Get Confusion matrix and the accuracy/score - Evaluate\n",
    "from sklearn.metrics import confusion_matrix\n",
    "cm    = confusion_matrix(Y_test, Y_predict)\n",
    "score = lr.score(X_test, Y_test)\n"
   ]
  },
  {
   "cell_type": "code",
   "execution_count": 11,
   "metadata": {},
   "outputs": [
    {
     "ename": "NameError",
     "evalue": "name 'new_run' is not defined",
     "output_type": "error",
     "traceback": [
      "\u001b[1;31m---------------------------------------------------------------------------\u001b[0m",
      "\u001b[1;31mNameError\u001b[0m                                 Traceback (most recent call last)",
      "\u001b[1;32mc:\\Users\\msyed\\OneDrive - Kagool Ltd\\Documents\\Experiments\\Exp1\\200trainingscript.ipynb Cell 10\u001b[0m in \u001b[0;36m<cell line: 12>\u001b[1;34m()\u001b[0m\n\u001b[0;32m      <a href='vscode-notebook-cell:/c%3A/Users/msyed/OneDrive%20-%20Kagool%20Ltd/Documents/Experiments/Exp1/200trainingscript.ipynb#ch0000009?line=0'>1</a>\u001b[0m \u001b[39m# -----------------------------------------------------\u001b[39;00m\n\u001b[0;32m      <a href='vscode-notebook-cell:/c%3A/Users/msyed/OneDrive%20-%20Kagool%20Ltd/Documents/Experiments/Exp1/200trainingscript.ipynb#ch0000009?line=1'>2</a>\u001b[0m \u001b[39m# Log metrics and Complete an experiment run\u001b[39;00m\n\u001b[0;32m      <a href='vscode-notebook-cell:/c%3A/Users/msyed/OneDrive%20-%20Kagool%20Ltd/Documents/Experiments/Exp1/200trainingscript.ipynb#ch0000009?line=2'>3</a>\u001b[0m \u001b[39m# -----------------------------------------------------\u001b[39;00m\n\u001b[0;32m      <a href='vscode-notebook-cell:/c%3A/Users/msyed/OneDrive%20-%20Kagool%20Ltd/Documents/Experiments/Exp1/200trainingscript.ipynb#ch0000009?line=3'>4</a>\u001b[0m \n\u001b[0;32m      <a href='vscode-notebook-cell:/c%3A/Users/msyed/OneDrive%20-%20Kagool%20Ltd/Documents/Experiments/Exp1/200trainingscript.ipynb#ch0000009?line=4'>5</a>\u001b[0m \u001b[39m# Create the confusion matrix dictionary\u001b[39;00m\n\u001b[0;32m      <a href='vscode-notebook-cell:/c%3A/Users/msyed/OneDrive%20-%20Kagool%20Ltd/Documents/Experiments/Exp1/200trainingscript.ipynb#ch0000009?line=5'>6</a>\u001b[0m cm_dict \u001b[39m=\u001b[39m {\u001b[39m\"\u001b[39m\u001b[39mschema_type\u001b[39m\u001b[39m\"\u001b[39m: \u001b[39m\"\u001b[39m\u001b[39mconfusion_matrix\u001b[39m\u001b[39m\"\u001b[39m,\n\u001b[0;32m      <a href='vscode-notebook-cell:/c%3A/Users/msyed/OneDrive%20-%20Kagool%20Ltd/Documents/Experiments/Exp1/200trainingscript.ipynb#ch0000009?line=6'>7</a>\u001b[0m            \u001b[39m\"\u001b[39m\u001b[39mschema_version\u001b[39m\u001b[39m\"\u001b[39m: \u001b[39m\"\u001b[39m\u001b[39mv1\u001b[39m\u001b[39m\"\u001b[39m,\n\u001b[0;32m      <a href='vscode-notebook-cell:/c%3A/Users/msyed/OneDrive%20-%20Kagool%20Ltd/Documents/Experiments/Exp1/200trainingscript.ipynb#ch0000009?line=7'>8</a>\u001b[0m            \u001b[39m\"\u001b[39m\u001b[39mdata\u001b[39m\u001b[39m\"\u001b[39m: {\u001b[39m\"\u001b[39m\u001b[39mclass_labels\u001b[39m\u001b[39m\"\u001b[39m: [\u001b[39m\"\u001b[39m\u001b[39mN\u001b[39m\u001b[39m\"\u001b[39m, \u001b[39m\"\u001b[39m\u001b[39mY\u001b[39m\u001b[39m\"\u001b[39m],\n\u001b[0;32m      <a href='vscode-notebook-cell:/c%3A/Users/msyed/OneDrive%20-%20Kagool%20Ltd/Documents/Experiments/Exp1/200trainingscript.ipynb#ch0000009?line=8'>9</a>\u001b[0m                     \u001b[39m\"\u001b[39m\u001b[39mmatrix\u001b[39m\u001b[39m\"\u001b[39m: cm\u001b[39m.\u001b[39mtolist()}\n\u001b[0;32m     <a href='vscode-notebook-cell:/c%3A/Users/msyed/OneDrive%20-%20Kagool%20Ltd/Documents/Experiments/Exp1/200trainingscript.ipynb#ch0000009?line=9'>10</a>\u001b[0m            }\n\u001b[1;32m---> <a href='vscode-notebook-cell:/c%3A/Users/msyed/OneDrive%20-%20Kagool%20Ltd/Documents/Experiments/Exp1/200trainingscript.ipynb#ch0000009?line=11'>12</a>\u001b[0m new_run\u001b[39m.\u001b[39mlog(\u001b[39m\"\u001b[39m\u001b[39mTotalObservations\u001b[39m\u001b[39m\"\u001b[39m, \u001b[39mlen\u001b[39m(df))\n\u001b[0;32m     <a href='vscode-notebook-cell:/c%3A/Users/msyed/OneDrive%20-%20Kagool%20Ltd/Documents/Experiments/Exp1/200trainingscript.ipynb#ch0000009?line=12'>13</a>\u001b[0m new_run\u001b[39m.\u001b[39mlog_confusion_matrix(\u001b[39m\"\u001b[39m\u001b[39mConfusionMatrix\u001b[39m\u001b[39m\"\u001b[39m, cm_dict)\n\u001b[0;32m     <a href='vscode-notebook-cell:/c%3A/Users/msyed/OneDrive%20-%20Kagool%20Ltd/Documents/Experiments/Exp1/200trainingscript.ipynb#ch0000009?line=13'>14</a>\u001b[0m new_run\u001b[39m.\u001b[39mlog(\u001b[39m\"\u001b[39m\u001b[39mScore\u001b[39m\u001b[39m\"\u001b[39m, score)\n",
      "\u001b[1;31mNameError\u001b[0m: name 'new_run' is not defined"
     ]
    }
   ],
   "source": [
    "# -----------------------------------------------------\n",
    "# Log metrics and Complete an experiment run\n",
    "# -----------------------------------------------------\n",
    "\n",
    "# Create the confusion matrix dictionary\n",
    "cm_dict = {\"schema_type\": \"confusion_matrix\",\n",
    "           \"schema_version\": \"v1\",\n",
    "           \"data\": {\"class_labels\": [\"N\", \"Y\"],\n",
    "                    \"matrix\": cm.tolist()}\n",
    "           }\n",
    "\n",
    "new_run.log(\"TotalObservations\", len(df))\n",
    "new_run.log_confusion_matrix(\"ConfusionMatrix\", cm_dict)\n",
    "new_run.log(\"Score\", score)\n"
   ]
  },
  {
   "cell_type": "code",
   "execution_count": null,
   "metadata": {},
   "outputs": [],
   "source": []
  }
 ],
 "metadata": {
  "kernelspec": {
   "display_name": "Python 3.8 - AzureML",
   "language": "python",
   "name": "python38-azureml"
  },
  "language_info": {
   "codemirror_mode": {
    "name": "ipython",
    "version": 3
   },
   "file_extension": ".py",
   "mimetype": "text/x-python",
   "name": "python",
   "nbconvert_exporter": "python",
   "pygments_lexer": "ipython3",
   "version": "3.8.5"
  },
  "orig_nbformat": 4,
  "vscode": {
   "interpreter": {
    "hash": "50b70df5fecea5c97d69b5a8262790faad53852dd68676fa6511d15a43c18730"
   }
  }
 },
 "nbformat": 4,
 "nbformat_minor": 2
}
