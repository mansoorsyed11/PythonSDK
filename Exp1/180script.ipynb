{
 "cells": [
  {
   "cell_type": "code",
   "execution_count": 1,
   "metadata": {},
   "outputs": [],
   "source": [
    "# -----------------------------------------------------\n",
    "# Import required classes from Azureml\n",
    "# -----------------------------------------------------\n",
    "from azureml.core import Workspace, Datastore, Dataset, Experiment\n",
    "from azureml.core import Run\n",
    "\n",
    "# -----------------------------------------------------\n",
    "# Access the Workspace, Datastore and Datasets\n",
    "# -----------------------------------------------------\n",
    "ws                = Workspace.from_config(\"./config\")\n",
    "# -----------------------------------------------------\n",
    "# Access the Workspace, Datastore and Datasets\n",
    "# -----------------------------------------------------\n",
    "dataset = Dataset.get_by_name(ws, name='loansampleexperiment')\n",
    "#az_default_store  = workspace.get_default_datastore()\n",
    "az_store= Datastore.get(ws, 'azureml_ds_b01')\n",
    "az_default_store  = ws.get_default_datastore()"
   ]
  },
  {
   "cell_type": "code",
   "execution_count": 2,
   "metadata": {},
   "outputs": [],
   "source": [
    "# -----------------------------------------------------\n",
    "# Get the context of the experiment run\n",
    "# -----------------------------------------------------\n",
    "new_run = Run.get_context()\n"
   ]
  },
  {
   "cell_type": "code",
   "execution_count": 3,
   "metadata": {},
   "outputs": [],
   "source": [
    "\n",
    "# -----------------------------------------------------\n",
    "# Do your stuff here\n",
    "# -----------------------------------------------------\n",
    "df = dataset.to_pandas_dataframe()\n",
    "\n",
    "# Count the observations\n",
    "total_observations = len(df)\n",
    "\n",
    "# Get the null/missing values\n",
    "nulldf = df.isnull().sum()"
   ]
  },
  {
   "cell_type": "code",
   "execution_count": 4,
   "metadata": {},
   "outputs": [
    {
     "data": {
      "text/plain": [
       "Index(['ID', 'Credit Given', 'Gender', 'Education', 'Marital Status', 'Age',\n",
       "       'Pay Stat M1', 'Bill Amt M1', 'Amt Paid M1', 'Pay Stat M2',\n",
       "       'Bill Amt M2', 'Amt Paid M2', 'Pay Stat M3', 'Bill Amt M3',\n",
       "       'Amt Paid M3', 'Default Next Month'],\n",
       "      dtype='object')"
      ]
     },
     "execution_count": 4,
     "metadata": {},
     "output_type": "execute_result"
    }
   ],
   "source": [
    "df.columns"
   ]
  },
  {
   "cell_type": "code",
   "execution_count": 5,
   "metadata": {},
   "outputs": [],
   "source": [
    "# Create a new dataframe with new features \n",
    "# and write to outputs folder\n",
    "new_df = df[[\"Gender\", \"Marital Status\", \"Education\", \"Default Next Month\"]]\n",
    "new_df.to_csv(\"./outputs/loan_trunc.csv\", index=False)\n"
   ]
  },
  {
   "cell_type": "code",
   "execution_count": 6,
   "metadata": {},
   "outputs": [
    {
     "name": "stdout",
     "output_type": "stream",
     "text": [
      "Attempted to log scalar metric Total Observations:\n",
      "1600\n",
      "Attempted to log scalar metric ID:\n",
      "0\n",
      "Attempted to log scalar metric Credit Given:\n",
      "16\n",
      "Attempted to log scalar metric Gender:\n",
      "12\n",
      "Attempted to log scalar metric Education:\n",
      "11\n",
      "Attempted to log scalar metric Marital Status:\n",
      "8\n",
      "Attempted to log scalar metric Age:\n",
      "0\n",
      "Attempted to log scalar metric Pay Stat M1:\n",
      "0\n",
      "Attempted to log scalar metric Bill Amt M1:\n",
      "0\n",
      "Attempted to log scalar metric Amt Paid M1:\n",
      "0\n",
      "Attempted to log scalar metric Pay Stat M2:\n",
      "0\n",
      "Attempted to log scalar metric Bill Amt M2:\n",
      "0\n",
      "Attempted to log scalar metric Amt Paid M2:\n",
      "0\n",
      "Attempted to log scalar metric Pay Stat M3:\n",
      "0\n",
      "Attempted to log scalar metric Bill Amt M3:\n",
      "0\n",
      "Attempted to log scalar metric Amt Paid M3:\n",
      "0\n",
      "Attempted to log scalar metric Default Next Month:\n",
      "0\n"
     ]
    }
   ],
   "source": [
    "# -----------------------------------------------------\n",
    "# Log metrics and Complete an experiment run\n",
    "# -----------------------------------------------------\n",
    "\n",
    "# Log the metrics to the workspace\n",
    "new_run.log(\"Total Observations\", total_observations)\n",
    "\n",
    "# Log the missing data values\n",
    "for columns in df.columns:\n",
    "    new_run.log(columns, nulldf[columns])\n",
    "\n",
    "new_run.complete()"
   ]
  },
  {
   "cell_type": "code",
   "execution_count": null,
   "metadata": {},
   "outputs": [],
   "source": []
  },
  {
   "cell_type": "code",
   "execution_count": null,
   "metadata": {},
   "outputs": [],
   "source": []
  },
  {
   "cell_type": "code",
   "execution_count": null,
   "metadata": {},
   "outputs": [],
   "source": []
  }
 ],
 "metadata": {
  "kernelspec": {
   "display_name": "Python 3.9.12 ('base')",
   "language": "python",
   "name": "python3"
  },
  "language_info": {
   "codemirror_mode": {
    "name": "ipython",
    "version": 3
   },
   "file_extension": ".py",
   "mimetype": "text/x-python",
   "name": "python",
   "nbconvert_exporter": "python",
   "pygments_lexer": "ipython3",
   "version": "3.9.12"
  },
  "orig_nbformat": 4,
  "vscode": {
   "interpreter": {
    "hash": "50b70df5fecea5c97d69b5a8262790faad53852dd68676fa6511d15a43c18730"
   }
  }
 },
 "nbformat": 4,
 "nbformat_minor": 2
}
