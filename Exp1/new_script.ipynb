{
 "cells": [
  {
   "cell_type": "code",
   "execution_count": 15,
   "metadata": {},
   "outputs": [],
   "source": [
    "from azureml.core import Workspace, Experiment, Run\n",
    "from azureml.core import Dataset, Datastore\n",
    "ws = Workspace.from_config(\"./config\")"
   ]
  },
  {
   "cell_type": "code",
   "execution_count": 14,
   "metadata": {},
   "outputs": [],
   "source": [
    "# -----------------------------------------------------\n",
    "# Access the Workspace, Datastore and Datasets\n",
    "# -----------------------------------------------------\n",
    "dataset = Dataset.get_by_name(ws, name='loansampleexperiment')\n",
    "#az_default_store  = workspace.get_default_datastore()\n",
    "az_store= Datastore.get(ws, 'azureml_ds_b01')"
   ]
  },
  {
   "cell_type": "code",
   "execution_count": 3,
   "metadata": {},
   "outputs": [],
   "source": [
    "import azureml"
   ]
  },
  {
   "cell_type": "code",
   "execution_count": 4,
   "metadata": {},
   "outputs": [],
   "source": [
    "import azureml._restclient.snapshots_client\n",
    "azureml._restclient.snapshots_client.SNAPSHOT_MAX_SIZE_BYTES = 1000000000"
   ]
  },
  {
   "cell_type": "code",
   "execution_count": 16,
   "metadata": {},
   "outputs": [],
   "source": [
    "#Get context \n",
    "run = Run.get_context()"
   ]
  },
  {
   "cell_type": "code",
   "execution_count": 17,
   "metadata": {},
   "outputs": [],
   "source": [
    "\n",
    "# -----------------------------------------------------\n",
    "# Do your stuff here\n",
    "# -----------------------------------------------------\n",
    "df = dataset.to_pandas_dataframe()"
   ]
  },
  {
   "cell_type": "code",
   "execution_count": 18,
   "metadata": {},
   "outputs": [
    {
     "data": {
      "text/plain": [
       "Index(['ID', 'Credit Given', 'Gender', 'Education', 'Marital Status', 'Age',\n",
       "       'Pay Stat M1', 'Bill Amt M1', 'Amt Paid M1', 'Pay Stat M2',\n",
       "       'Bill Amt M2', 'Amt Paid M2', 'Pay Stat M3', 'Bill Amt M3',\n",
       "       'Amt Paid M3', 'Default Next Month'],\n",
       "      dtype='object')"
      ]
     },
     "execution_count": 18,
     "metadata": {},
     "output_type": "execute_result"
    }
   ],
   "source": [
    "df.columns"
   ]
  },
  {
   "cell_type": "code",
   "execution_count": 19,
   "metadata": {},
   "outputs": [],
   "source": [
    "# Create a new dataframe with new features \n",
    "# and write to outputs folder\n",
    "new_df = df[[\"Gender\", \"Marital Status\", \"Education\",'Default Next Month']]\n",
    "new_df.to_csv(\"./outputs/loan_trunc.csv\", index=False)\n"
   ]
  },
  {
   "cell_type": "code",
   "execution_count": 20,
   "metadata": {},
   "outputs": [
    {
     "data": {
      "text/html": [
       "<div>\n",
       "<style scoped>\n",
       "    .dataframe tbody tr th:only-of-type {\n",
       "        vertical-align: middle;\n",
       "    }\n",
       "\n",
       "    .dataframe tbody tr th {\n",
       "        vertical-align: top;\n",
       "    }\n",
       "\n",
       "    .dataframe thead th {\n",
       "        text-align: right;\n",
       "    }\n",
       "</style>\n",
       "<table border=\"1\" class=\"dataframe\">\n",
       "  <thead>\n",
       "    <tr style=\"text-align: right;\">\n",
       "      <th></th>\n",
       "      <th>Gender</th>\n",
       "      <th>Marital Status</th>\n",
       "      <th>Education</th>\n",
       "      <th>Default Next Month</th>\n",
       "    </tr>\n",
       "  </thead>\n",
       "  <tbody>\n",
       "    <tr>\n",
       "      <th>0</th>\n",
       "      <td>Female</td>\n",
       "      <td>Never Married</td>\n",
       "      <td>University</td>\n",
       "      <td>True</td>\n",
       "    </tr>\n",
       "    <tr>\n",
       "      <th>1</th>\n",
       "      <td>None</td>\n",
       "      <td>Never Married</td>\n",
       "      <td>University</td>\n",
       "      <td>False</td>\n",
       "    </tr>\n",
       "    <tr>\n",
       "      <th>2</th>\n",
       "      <td>Female</td>\n",
       "      <td>Married</td>\n",
       "      <td>University</td>\n",
       "      <td>False</td>\n",
       "    </tr>\n",
       "    <tr>\n",
       "      <th>3</th>\n",
       "      <td>Male</td>\n",
       "      <td>Married</td>\n",
       "      <td>None</td>\n",
       "      <td>False</td>\n",
       "    </tr>\n",
       "    <tr>\n",
       "      <th>4</th>\n",
       "      <td>Male</td>\n",
       "      <td>Never Married</td>\n",
       "      <td>Graduate School</td>\n",
       "      <td>False</td>\n",
       "    </tr>\n",
       "    <tr>\n",
       "      <th>...</th>\n",
       "      <td>...</td>\n",
       "      <td>...</td>\n",
       "      <td>...</td>\n",
       "      <td>...</td>\n",
       "    </tr>\n",
       "    <tr>\n",
       "      <th>1595</th>\n",
       "      <td>Female</td>\n",
       "      <td>Never Married</td>\n",
       "      <td>Graduate School</td>\n",
       "      <td>False</td>\n",
       "    </tr>\n",
       "    <tr>\n",
       "      <th>1596</th>\n",
       "      <td>Female</td>\n",
       "      <td>Never Married</td>\n",
       "      <td>Graduate School</td>\n",
       "      <td>False</td>\n",
       "    </tr>\n",
       "    <tr>\n",
       "      <th>1597</th>\n",
       "      <td>Female</td>\n",
       "      <td>Married</td>\n",
       "      <td>High School</td>\n",
       "      <td>False</td>\n",
       "    </tr>\n",
       "    <tr>\n",
       "      <th>1598</th>\n",
       "      <td>Female</td>\n",
       "      <td>Married</td>\n",
       "      <td>University</td>\n",
       "      <td>False</td>\n",
       "    </tr>\n",
       "    <tr>\n",
       "      <th>1599</th>\n",
       "      <td>Male</td>\n",
       "      <td>Married</td>\n",
       "      <td>University</td>\n",
       "      <td>False</td>\n",
       "    </tr>\n",
       "  </tbody>\n",
       "</table>\n",
       "<p>1600 rows × 4 columns</p>\n",
       "</div>"
      ],
      "text/plain": [
       "      Gender Marital Status        Education  Default Next Month\n",
       "0     Female  Never Married       University                True\n",
       "1       None  Never Married       University               False\n",
       "2     Female        Married       University               False\n",
       "3       Male        Married             None               False\n",
       "4       Male  Never Married  Graduate School               False\n",
       "...      ...            ...              ...                 ...\n",
       "1595  Female  Never Married  Graduate School               False\n",
       "1596  Female  Never Married  Graduate School               False\n",
       "1597  Female        Married      High School               False\n",
       "1598  Female        Married       University               False\n",
       "1599    Male        Married       University               False\n",
       "\n",
       "[1600 rows x 4 columns]"
      ]
     },
     "execution_count": 20,
     "metadata": {},
     "output_type": "execute_result"
    }
   ],
   "source": [
    "new_df"
   ]
  },
  {
   "cell_type": "code",
   "execution_count": 21,
   "metadata": {},
   "outputs": [],
   "source": [
    "total_observation = len(df)\n",
    "nulldf = df.isnull().sum()"
   ]
  },
  {
   "cell_type": "code",
   "execution_count": 22,
   "metadata": {},
   "outputs": [
    {
     "name": "stdout",
     "output_type": "stream",
     "text": [
      "Attempted to log scalar metric Total Observations:\n",
      "1600\n"
     ]
    }
   ],
   "source": [
    "run.log('Total Observations', total_observation)"
   ]
  },
  {
   "cell_type": "code",
   "execution_count": 23,
   "metadata": {},
   "outputs": [
    {
     "name": "stdout",
     "output_type": "stream",
     "text": [
      "Attempted to log scalar metric ID:\n",
      "0\n",
      "Attempted to log scalar metric Credit Given:\n",
      "16\n",
      "Attempted to log scalar metric Gender:\n",
      "12\n",
      "Attempted to log scalar metric Education:\n",
      "11\n",
      "Attempted to log scalar metric Marital Status:\n",
      "8\n",
      "Attempted to log scalar metric Age:\n",
      "0\n",
      "Attempted to log scalar metric Pay Stat M1:\n",
      "0\n",
      "Attempted to log scalar metric Bill Amt M1:\n",
      "0\n",
      "Attempted to log scalar metric Amt Paid M1:\n",
      "0\n",
      "Attempted to log scalar metric Pay Stat M2:\n",
      "0\n",
      "Attempted to log scalar metric Bill Amt M2:\n",
      "0\n",
      "Attempted to log scalar metric Amt Paid M2:\n",
      "0\n",
      "Attempted to log scalar metric Pay Stat M3:\n",
      "0\n",
      "Attempted to log scalar metric Bill Amt M3:\n",
      "0\n",
      "Attempted to log scalar metric Amt Paid M3:\n",
      "0\n",
      "Attempted to log scalar metric Default Next Month:\n",
      "0\n"
     ]
    }
   ],
   "source": [
    "#log missing data values\n",
    "for columns in df.columns:\n",
    "    run.log(columns, nulldf[columns])"
   ]
  },
  {
   "cell_type": "code",
   "execution_count": 24,
   "metadata": {},
   "outputs": [],
   "source": [
    "run.complete()"
   ]
  },
  {
   "cell_type": "code",
   "execution_count": null,
   "metadata": {},
   "outputs": [],
   "source": []
  },
  {
   "cell_type": "code",
   "execution_count": null,
   "metadata": {},
   "outputs": [],
   "source": []
  },
  {
   "cell_type": "code",
   "execution_count": null,
   "metadata": {},
   "outputs": [],
   "source": []
  }
 ],
 "metadata": {
  "kernelspec": {
   "display_name": "Python 3.8 - AzureML",
   "language": "python",
   "name": "python38-azureml"
  },
  "language_info": {
   "codemirror_mode": {
    "name": "ipython",
    "version": 3
   },
   "file_extension": ".py",
   "mimetype": "text/x-python",
   "name": "python",
   "nbconvert_exporter": "python",
   "pygments_lexer": "ipython3",
   "version": "3.8.5"
  },
  "orig_nbformat": 4,
  "vscode": {
   "interpreter": {
    "hash": "50b70df5fecea5c97d69b5a8262790faad53852dd68676fa6511d15a43c18730"
   }
  }
 },
 "nbformat": 4,
 "nbformat_minor": 2
}
