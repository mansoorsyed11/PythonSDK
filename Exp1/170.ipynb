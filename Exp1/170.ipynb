{
 "cells": [
  {
   "cell_type": "code",
   "execution_count": 1,
   "metadata": {},
   "outputs": [],
   "source": [
    "# ------------------------------------------------------------\n",
    "# Run a script in an Azureml environment\n",
    "# ------------------------------------------------------------\n",
    "# This code will submit the script provided in ScriptRunConfig\n",
    "# and create an Azureml environment on the local machine\n",
    "# including the docker for Azureml\n",
    "# ------------------------------------------------------------\n",
    "\n",
    "# Import the Azure ML classes\n",
    "from azureml.core import Workspace, Experiment, ScriptRunConfig\n",
    "\n",
    "# Access the workspace using config.json\n",
    "ws = Workspace.from_config(\"./config\")"
   ]
  },
  {
   "cell_type": "markdown",
   "metadata": {},
   "source": []
  },
  {
   "cell_type": "code",
   "execution_count": 20,
   "metadata": {},
   "outputs": [],
   "source": [
    "# Create/access the experiment from workspace \n",
    "new_experiment = Experiment(workspace=ws,\n",
    "                            name=\"Loan_Script\")"
   ]
  },
  {
   "cell_type": "code",
   "execution_count": 21,
   "metadata": {},
   "outputs": [],
   "source": [
    "# Create a script configuration\n",
    "script_config = ScriptRunConfig(source_directory=\".\",\n",
    "                                script=\"180script.ipynb\")\n",
    "                                #environment=\"env_name\",\n",
    "                                #arguments=[\"--args args\"])"
   ]
  },
  {
   "cell_type": "markdown",
   "metadata": {},
   "source": [
    "experiment = Experiment(workspace, experiment_name)\n",
    "\n",
    "config = ScriptRunConfig(source_directory=\"./src\",\n",
    "\n",
    "                         script=\"train.py\",\n",
    "\n",
    "                         compute_target=\"gpu_cluster\",\n",
    "\n",
    "                         environment=\"env_name\",\n",
    "\n",
    "                         arguments=[\"--args args\"])\n",
    "                         \n",
    "run = experiment.submit(config)"
   ]
  },
  {
   "cell_type": "code",
   "execution_count": 22,
   "metadata": {},
   "outputs": [],
   "source": [
    "# Submit a new run using the ScriptRunConfig\n",
    "new_run = new_experiment.start_logging(script_config, snapshot_directory=None)"
   ]
  },
  {
   "cell_type": "code",
   "execution_count": 23,
   "metadata": {},
   "outputs": [],
   "source": [
    "new_run.complete()"
   ]
  },
  {
   "cell_type": "code",
   "execution_count": null,
   "metadata": {},
   "outputs": [],
   "source": []
  },
  {
   "cell_type": "code",
   "execution_count": null,
   "metadata": {},
   "outputs": [],
   "source": []
  },
  {
   "cell_type": "code",
   "execution_count": null,
   "metadata": {},
   "outputs": [],
   "source": []
  }
 ],
 "metadata": {
  "kernelspec": {
   "display_name": "Python 3.9.12 ('base')",
   "language": "python",
   "name": "python3"
  },
  "language_info": {
   "name": "python",
   "version": "3.9.12"
  },
  "orig_nbformat": 4,
  "vscode": {
   "interpreter": {
    "hash": "50b70df5fecea5c97d69b5a8262790faad53852dd68676fa6511d15a43c18730"
   }
  }
 },
 "nbformat": 4,
 "nbformat_minor": 2
}
