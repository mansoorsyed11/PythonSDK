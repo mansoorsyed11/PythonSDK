{
 "cells": [
  {
   "cell_type": "code",
   "execution_count": 93,
   "metadata": {},
   "outputs": [],
   "source": [
    "\n",
    "# Import the Azure ML classes\n",
    "from azureml.core import Workspace, Experiment, ScriptRunConfig\n",
    "\n",
    "# Access the workspace using config.json\n",
    "ws = Workspace.from_config(\"./config\")\n"
   ]
  },
  {
   "cell_type": "code",
   "execution_count": 94,
   "metadata": {},
   "outputs": [],
   "source": [
    "# Create/access the experiment from workspace \n",
    "new_experiment = Experiment(workspace=ws,name=\"Est-SDK-Exp01\")"
   ]
  },
  {
   "cell_type": "code",
   "execution_count": 95,
   "metadata": {},
   "outputs": [],
   "source": [
    "# Create a script configuration\n",
    "script_config = ScriptRunConfig(source_directory=\".\",script=\"new_script.ipynb\")"
   ]
  },
  {
   "cell_type": "code",
   "execution_count": 97,
   "metadata": {},
   "outputs": [
    {
     "ename": "ExperimentExecutionException",
     "evalue": "ExperimentExecutionException:\n\tMessage: /mnt/batch/tasks/shared/LS_root/mounts/clusters/msyed1/code/new_script.ipynb script path doesn't exist. The script should be inside the project folder\n\tInnerException None\n\tErrorResponse \n{\n    \"error\": {\n        \"message\": \"/mnt/batch/tasks/shared/LS_root/mounts/clusters/msyed1/code/new_script.ipynb script path doesn't exist. The script should be inside the project folder\"\n    }\n}",
     "output_type": "error",
     "traceback": [
      "\u001b[0;31m---------------------------------------------------------------------------\u001b[0m",
      "\u001b[0;31mExperimentExecutionException\u001b[0m              Traceback (most recent call last)",
      "\u001b[1;32mc:\\Users\\msyed\\OneDrive - Kagool Ltd\\Documents\\Experiments\\Exp1\\creating_env.ipynb Cell 4\u001b[0m in \u001b[0;36m<cell line: 2>\u001b[0;34m()\u001b[0m\n\u001b[1;32m      <a href='vscode-notebook-cell:/c%3A/Users/msyed/OneDrive%20-%20Kagool%20Ltd/Documents/Experiments/Exp1/creating_env.ipynb#ch0000003?line=0'>1</a>\u001b[0m \u001b[39m# Submit a new run using the ScriptRunConfig\u001b[39;00m\n\u001b[0;32m----> <a href='vscode-notebook-cell:/c%3A/Users/msyed/OneDrive%20-%20Kagool%20Ltd/Documents/Experiments/Exp1/creating_env.ipynb#ch0000003?line=1'>2</a>\u001b[0m new_run \u001b[39m=\u001b[39m new_experiment\u001b[39m.\u001b[39;49msubmit(config\u001b[39m=\u001b[39;49mscript_config)\n",
      "File \u001b[0;32m/anaconda/envs/azureml_py38/lib/python3.8/site-packages/azureml/core/experiment.py:220\u001b[0m, in \u001b[0;36mExperiment.submit\u001b[0;34m(self, config, tags, **kwargs)\u001b[0m\n\u001b[1;32m    218\u001b[0m submit_func \u001b[39m=\u001b[39m get_experiment_submit(config)\n\u001b[1;32m    219\u001b[0m \u001b[39mwith\u001b[39;00m \u001b[39mself\u001b[39m\u001b[39m.\u001b[39m_log_context(\u001b[39m\"\u001b[39m\u001b[39msubmit config \u001b[39m\u001b[39m{}\u001b[39;00m\u001b[39m\"\u001b[39m\u001b[39m.\u001b[39mformat(config\u001b[39m.\u001b[39m\u001b[39m__class__\u001b[39m\u001b[39m.\u001b[39m\u001b[39m__name__\u001b[39m)):\n\u001b[0;32m--> 220\u001b[0m     run \u001b[39m=\u001b[39m submit_func(config, \u001b[39mself\u001b[39;49m\u001b[39m.\u001b[39;49mworkspace, \u001b[39mself\u001b[39;49m\u001b[39m.\u001b[39;49mname, \u001b[39m*\u001b[39;49m\u001b[39m*\u001b[39;49mkwargs)\n\u001b[1;32m    221\u001b[0m \u001b[39mif\u001b[39;00m tags \u001b[39mis\u001b[39;00m \u001b[39mnot\u001b[39;00m \u001b[39mNone\u001b[39;00m:\n\u001b[1;32m    222\u001b[0m     run\u001b[39m.\u001b[39mset_tags(tags)\n",
      "File \u001b[0;32m/anaconda/envs/azureml_py38/lib/python3.8/site-packages/azureml/core/script_run_config.py:63\u001b[0m, in \u001b[0;36msubmit\u001b[0;34m(script_run_config, workspace, experiment_name, run_id, _parent_run_id, credential_passthrough)\u001b[0m\n\u001b[1;32m     60\u001b[0m inputs, _ \u001b[39m=\u001b[39m _update_args_and_io(workspace, run_config)\n\u001b[1;32m     61\u001b[0m collect_datasets_usage(module_logger, _SCRIPT_RUN_SUBMIT_ACTIVITY, inputs,\n\u001b[1;32m     62\u001b[0m                        workspace, run_config\u001b[39m.\u001b[39mtarget)\n\u001b[0;32m---> 63\u001b[0m run \u001b[39m=\u001b[39m _commands\u001b[39m.\u001b[39;49mstart_run(project, run_config,\n\u001b[1;32m     64\u001b[0m                           telemetry_values\u001b[39m=\u001b[39;49mscript_run_config\u001b[39m.\u001b[39;49m_telemetry_values,\n\u001b[1;32m     65\u001b[0m                           run_id\u001b[39m=\u001b[39;49mrun_id, parent_run_id\u001b[39m=\u001b[39;49m_parent_run_id)\n\u001b[1;32m     66\u001b[0m run\u001b[39m.\u001b[39madd_properties(global_tracking_info_registry\u001b[39m.\u001b[39mgather_all(script_run_config\u001b[39m.\u001b[39msource_directory))\n\u001b[1;32m     68\u001b[0m \u001b[39mreturn\u001b[39;00m run\n",
      "File \u001b[0;32m/anaconda/envs/azureml_py38/lib/python3.8/site-packages/azureml/_execution/_commands.py:95\u001b[0m, in \u001b[0;36mstart_run\u001b[0;34m(project_object, run_config_object, run_id, injected_files, telemetry_values, parent_run_id, prepare_only, check)\u001b[0m\n\u001b[1;32m     71\u001b[0m \u001b[39mdef\u001b[39;00m \u001b[39mstart_run\u001b[39m(project_object, run_config_object,\n\u001b[1;32m     72\u001b[0m               run_id\u001b[39m=\u001b[39m\u001b[39mNone\u001b[39;00m, injected_files\u001b[39m=\u001b[39m\u001b[39mNone\u001b[39;00m, telemetry_values\u001b[39m=\u001b[39m\u001b[39mNone\u001b[39;00m,\n\u001b[1;32m     73\u001b[0m               parent_run_id\u001b[39m=\u001b[39m\u001b[39mNone\u001b[39;00m, prepare_only\u001b[39m=\u001b[39m\u001b[39mFalse\u001b[39;00m, check\u001b[39m=\u001b[39m\u001b[39mFalse\u001b[39;00m):\n\u001b[1;32m     74\u001b[0m     \u001b[39m\"\"\"\u001b[39;00m\n\u001b[1;32m     75\u001b[0m \u001b[39m    Start an experiment run for a project.\u001b[39;00m\n\u001b[1;32m     76\u001b[0m \u001b[39m    Returns a run object.\u001b[39;00m\n\u001b[0;32m   (...)\u001b[0m\n\u001b[1;32m     92\u001b[0m \u001b[39m    :rtype: azureml.core.script_run.ScriptRun\u001b[39;00m\n\u001b[1;32m     93\u001b[0m \u001b[39m    \"\"\"\u001b[39;00m\n\u001b[0;32m---> 95\u001b[0m     setup \u001b[39m=\u001b[39m _setup_run(project_object, run_config_object,\n\u001b[1;32m     96\u001b[0m                        injected_files\u001b[39m=\u001b[39;49minjected_files, prepare_only\u001b[39m=\u001b[39;49mprepare_only)\n\u001b[1;32m     97\u001b[0m     custom_target_dict \u001b[39m=\u001b[39m setup\u001b[39m.\u001b[39mcustom_target_dict\n\u001b[1;32m     99\u001b[0m     \u001b[39m# Collect common telemetry information for client side.\u001b[39;00m\n",
      "File \u001b[0;32m/anaconda/envs/azureml_py38/lib/python3.8/site-packages/azureml/_execution/_commands.py:157\u001b[0m, in \u001b[0;36m_setup_run\u001b[0;34m(project_object, run_config_object, prepare_only, injected_files)\u001b[0m\n\u001b[1;32m    154\u001b[0m         run_config_object\u001b[39m.\u001b[39mscript \u001b[39m=\u001b[39m normalize_windows_paths(\n\u001b[1;32m    155\u001b[0m             os\u001b[39m.\u001b[39mpath\u001b[39m.\u001b[39mrelpath(full_script_path, project_object\u001b[39m.\u001b[39mproject_directory))\n\u001b[1;32m    156\u001b[0m     \u001b[39melse\u001b[39;00m:\n\u001b[0;32m--> 157\u001b[0m         \u001b[39mraise\u001b[39;00m ExperimentExecutionException(\u001b[39m\"\u001b[39m\u001b[39m{}\u001b[39;00m\u001b[39m script path doesn\u001b[39m\u001b[39m'\u001b[39m\u001b[39mt exist. \u001b[39m\u001b[39m\"\u001b[39m\n\u001b[1;32m    158\u001b[0m                                            \u001b[39m\"\u001b[39m\u001b[39mThe script should be inside the project \u001b[39m\u001b[39m\"\u001b[39m\n\u001b[1;32m    159\u001b[0m                                            \u001b[39m\"\u001b[39m\u001b[39mfolder\u001b[39m\u001b[39m\"\u001b[39m\u001b[39m.\u001b[39mformat(full_script_path))\n\u001b[1;32m    161\u001b[0m setup \u001b[39m=\u001b[39m collections\u001b[39m.\u001b[39mnamedtuple(\u001b[39m\"\u001b[39m\u001b[39msetup\u001b[39m\u001b[39m\"\u001b[39m, [\u001b[39m\"\u001b[39m\u001b[39mcustom_target_dict\u001b[39m\u001b[39m\"\u001b[39m, \u001b[39m\"\u001b[39m\u001b[39mconfiguration_path\u001b[39m\u001b[39m\"\u001b[39m])\n\u001b[1;32m    162\u001b[0m \u001b[39mreturn\u001b[39;00m setup(custom_target_dict\u001b[39m=\u001b[39mcustom_target_dict, configuration_path\u001b[39m=\u001b[39mconfiguration_path)\n",
      "\u001b[0;31mExperimentExecutionException\u001b[0m: ExperimentExecutionException:\n\tMessage: /mnt/batch/tasks/shared/LS_root/mounts/clusters/msyed1/code/new_script.ipynb script path doesn't exist. The script should be inside the project folder\n\tInnerException None\n\tErrorResponse \n{\n    \"error\": {\n        \"message\": \"/mnt/batch/tasks/shared/LS_root/mounts/clusters/msyed1/code/new_script.ipynb script path doesn't exist. The script should be inside the project folder\"\n    }\n}"
     ]
    }
   ],
   "source": [
    "# Submit a new run using the ScriptRunConfig\n",
    "new_run = new_experiment.submit(config=script_config)"
   ]
  },
  {
   "cell_type": "code",
   "execution_count": null,
   "metadata": {},
   "outputs": [],
   "source": []
  }
 ],
 "metadata": {
  "kernelspec": {
   "display_name": "Python 3.8 - AzureML",
   "language": "python",
   "name": "python38-azureml"
  },
  "orig_nbformat": 4,
  "vscode": {
   "interpreter": {
    "hash": "50b70df5fecea5c97d69b5a8262790faad53852dd68676fa6511d15a43c18730"
   }
  }
 },
 "nbformat": 4,
 "nbformat_minor": 2
}
