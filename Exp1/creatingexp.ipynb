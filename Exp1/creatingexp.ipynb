{
 "cells": [
  {
   "cell_type": "code",
   "execution_count": 1,
   "metadata": {},
   "outputs": [],
   "source": [
    "# azureml-core of version 1.0.72 or higher is required\n",
    "# azureml-dataprep[pandas] of version 1.1.34 or higher is required\n",
    "from azureml.core import Workspace, Dataset, Datastore, Experiment\n",
    "\n",
    "subscription_id = 'eb5a257a-76e2-472d-9fdc-7f9b3172fcf6'\n",
    "resource_group = 'rg-smth-3788'\n",
    "workspace_name = 'smth-3788'\n",
    "\n",
    "workspace = Workspace(subscription_id, resource_group, workspace_name)\n",
    "\n",
    "#dataset.to_pandas_dataframe()"
   ]
  },
  {
   "cell_type": "code",
   "execution_count": 1,
   "metadata": {},
   "outputs": [
    {
     "ename": "NameError",
     "evalue": "name 'Workspace' is not defined",
     "output_type": "error",
     "traceback": [
      "\u001b[1;31m---------------------------------------------------------------------------\u001b[0m",
      "\u001b[1;31mNameError\u001b[0m                                 Traceback (most recent call last)",
      "\u001b[1;32mc:\\Users\\msyed\\OneDrive - Kagool Ltd\\Documents\\Experiments\\Exp1\\creatingexp.ipynb Cell 2\u001b[0m in \u001b[0;36m<cell line: 1>\u001b[1;34m()\u001b[0m\n\u001b[1;32m----> <a href='vscode-notebook-cell:/c%3A/Users/msyed/OneDrive%20-%20Kagool%20Ltd/Documents/Experiments/Exp1/creatingexp.ipynb#ch0000001?line=0'>1</a>\u001b[0m ws \u001b[39m=\u001b[39m Workspace\u001b[39m.\u001b[39mfrom_config(\u001b[39m\"\u001b[39m\u001b[39m./config\u001b[39m\u001b[39m\"\u001b[39m)\n",
      "\u001b[1;31mNameError\u001b[0m: name 'Workspace' is not defined"
     ]
    }
   ],
   "source": [
    "ws = Workspace.from_config(\"./config\")"
   ]
  },
  {
   "cell_type": "code",
   "execution_count": 45,
   "metadata": {},
   "outputs": [],
   "source": [
    "# -----------------------------------------------------\n",
    "# Access the Workspace, Datastore and Datasets\n",
    "# -----------------------------------------------------\n",
    "dataset = Dataset.get_by_name(workspace, name='loansampleexperiment')\n",
    "#az_default_store  = workspace.get_default_datastore()\n",
    "az_store= Datastore.get(workspace, 'azureml_ds_b01')"
   ]
  },
  {
   "cell_type": "code",
   "execution_count": 47,
   "metadata": {},
   "outputs": [],
   "source": [
    "import azureml"
   ]
  },
  {
   "cell_type": "code",
   "execution_count": 21,
   "metadata": {},
   "outputs": [],
   "source": [
    "import azureml._restclient.snapshots_client\n",
    "azureml._restclient.snapshots_client.SNAPSHOT_MAX_SIZE_BYTES = 1000000000"
   ]
  },
  {
   "cell_type": "code",
   "execution_count": 48,
   "metadata": {},
   "outputs": [],
   "source": [
    "# -----------------------------------------------------\n",
    "# Create/Access an experiment object\n",
    "# -----------------------------------------------------\n",
    "experiment = Experiment(workspace=workspace,\n",
    "                        name=\"Est-SDK-Exp01\")"
   ]
  },
  {
   "cell_type": "code",
   "execution_count": 49,
   "metadata": {},
   "outputs": [],
   "source": [
    "# Run an experiment using start_logging method\n",
    "# -----------------------------------------------------\n",
    "#new_run = experiment.start_logging()\n",
    "run = experiment.start_logging(snapshot_directory=None)\n"
   ]
  },
  {
   "cell_type": "code",
   "execution_count": 50,
   "metadata": {},
   "outputs": [],
   "source": [
    "\n",
    "# -----------------------------------------------------\n",
    "# Do your stuff here\n",
    "# -----------------------------------------------------\n",
    "df = dataset.to_pandas_dataframe()"
   ]
  },
  {
   "cell_type": "code",
   "execution_count": 51,
   "metadata": {},
   "outputs": [],
   "source": [
    "total_observation = len(df)\n",
    "nulldf = df.isnull().sum()"
   ]
  },
  {
   "cell_type": "code",
   "execution_count": 52,
   "metadata": {},
   "outputs": [],
   "source": [
    "run.log('Total Observations', total_observation)"
   ]
  },
  {
   "cell_type": "code",
   "execution_count": 53,
   "metadata": {},
   "outputs": [],
   "source": [
    "#log missing data values\n",
    "for columns in df.columns:\n",
    "    run.log(columns, nulldf[columns])"
   ]
  },
  {
   "cell_type": "code",
   "execution_count": null,
   "metadata": {},
   "outputs": [],
   "source": []
  },
  {
   "cell_type": "code",
   "execution_count": 54,
   "metadata": {},
   "outputs": [],
   "source": [
    "run.complete()"
   ]
  },
  {
   "cell_type": "code",
   "execution_count": null,
   "metadata": {},
   "outputs": [],
   "source": []
  }
 ],
 "metadata": {
  "kernelspec": {
   "display_name": "Python 3.8 - AzureML",
   "language": "python",
   "name": "python38-azureml"
  },
  "orig_nbformat": 4,
  "vscode": {
   "interpreter": {
    "hash": "50b70df5fecea5c97d69b5a8262790faad53852dd68676fa6511d15a43c18730"
   }
  }
 },
 "nbformat": 4,
 "nbformat_minor": 2
}
