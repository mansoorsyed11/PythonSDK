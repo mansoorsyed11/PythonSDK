{
 "cells": [
  {
   "cell_type": "code",
   "execution_count": 7,
   "metadata": {},
   "outputs": [],
   "source": [
    "# azureml-dataprep[pandas] of version 1.1.34 or higher is required\n",
    "from azureml.core import Workspace, Dataset,Experiment, Datastore\n",
    "\n",
    "\n",
    "subscription_id= 'eb5a257a-76e2-472d-9fdc-7f9b3172fcf6'\n",
    "resource_group = 'rg-smth-3788'\n",
    "workspace_name = 'smth-3788'\n",
    "#az_store       = Datastore.get(workspace_name, 'azureml_ds_b01')\n",
    "#azure_sdk_blob01\n",
    "workspace = Workspace(subscription_id, resource_group, workspace_name)\n",
    "\n",
    "\n",
    "# -----------------------------------------------------\n",
    "# Create a datastore \n",
    "# -----------------------------------------------------\n",
    "az_store = Datastore.register_azure_blob_container(\n",
    "            workspace=workspace,\n",
    "            datastore_name=\"azure_sdk_blob01\", #create a name\n",
    "            account_name=\"smth37881976232114\", #storage account name\n",
    "            container_name=\"mlexperiments\", #container name\n",
    "            account_key=\"oDGA8zdyZLE+sQdWx1bLczGA6kRVfw7Iq0NuNYg+wX1TEgTFidLGOaQ2gcC3PQeh2ourxYZklizigunxBB0WWA==\") #storage access key "
   ]
  },
  {
   "cell_type": "code",
   "execution_count": null,
   "metadata": {},
   "outputs": [],
   "source": []
  }
 ],
 "metadata": {
  "kernelspec": {
   "display_name": "Python 3.9.12 ('base')",
   "language": "python",
   "name": "python3"
  },
  "language_info": {
   "name": "python",
   "version": "3.9.12"
  },
  "orig_nbformat": 4,
  "vscode": {
   "interpreter": {
    "hash": "50b70df5fecea5c97d69b5a8262790faad53852dd68676fa6511d15a43c18730"
   }
  }
 },
 "nbformat": 4,
 "nbformat_minor": 2
}
